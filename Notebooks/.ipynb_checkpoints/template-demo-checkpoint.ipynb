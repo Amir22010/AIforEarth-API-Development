{
 "cells": [
  {
   "cell_type": "markdown",
   "metadata": {},
   "source": [
    "## Template API Demo\n",
    "\n",
    "Please give a short description of your model here and the benefit it provides.  Also, don't forget to mention your organization here so the world can know that this is your amazing work!\n",
    "\n",
    "This template will load an image, show it, and call a fake API unrelated to that image.  We're guessing your API will do more interesting things."
   ]
  },
  {
   "cell_type": "markdown",
   "metadata": {},
   "source": [
    "### Imports and constants"
   ]
  },
  {
   "cell_type": "code",
   "execution_count": null,
   "metadata": {
    "scrolled": true
   },
   "outputs": [],
   "source": [
    "# If you use any non-standard packages that we wouldn't find via pip/conda, include a comment about where we\n",
    "# should find that package.\n",
    "import os\n",
    "import io\n",
    "import sys\n",
    "import requests\n",
    "import matplotlib.pyplot as plt\n",
    "from PIL import Image\n",
    "\n",
    "# Please leave this in.  When the demo is run subsequent times, it will appear clean, without \n",
    "# the previous results of prior demos cached.  \n",
    "%autosave 0\n",
    "\n",
    "#\n",
    "# Specify any constants and static variables that you need.  This probably includes the URL of your API, \n",
    "# and paths or URLs to access test data.\n",
    "#\n",
    "# You are welcome to also provide a configuration file (in .py or .json) if there are variables that you\n",
    "# would like to stay hidden to an audience, like the details of accessing a blob storage account.  \n",
    "#\n",
    "API_URL = 'http://localhost/my_api/does_important_stuff'\n",
    "\n",
    "# The sample images for purposes of this tutorial is a lovely heron flying above a lovely\n",
    "# pond, because birds.\n",
    "SAMPLE_IMAGE_URL = 'https://github.com/Microsoft/AIforEarth-API-Development/raw/master/Notebooks/demo_image.jpg'\n"
   ]
  },
  {
   "cell_type": "markdown",
   "metadata": {},
   "source": [
    "### Functions"
   ]
  },
  {
   "cell_type": "code",
   "execution_count": null,
   "metadata": {
    "scrolled": true
   },
   "outputs": [],
   "source": [
    "# Replace this cell with any helper functions that your code requires.  Functions that retrieve data, display an image,\n",
    "# plot data, etc. can live here.  \n",
    "\n",
    "def get_image():\n",
    "    \n",
    "    image_data = requests.get(SAMPLE_IMAGE_URL) \n",
    "    return images_data   \n",
    "    \n",
    "def show_image(img):\n",
    "    \n",
    "    img = Image.open(io.BytesIO(img))\n",
    "    axis = plt.subplot(rows,columns, i + 1)     \n",
    "    axis.imshow(img)\n",
    "    plt.axis('off')\n",
    "    plt.axis('tight')\n",
    "    "
   ]
  },
  {
   "cell_type": "markdown",
   "metadata": {},
   "source": [
    "### Retrieve and display images"
   ]
  },
  {
   "cell_type": "code",
   "execution_count": null,
   "metadata": {},
   "outputs": [],
   "source": [
    "# Replace this cell with code to display your input, if needed.  For computer vision APIs, it's nice to see the\n",
    "# input image before we see your results.\n",
    "testImage = get_image()\n",
    "\n"
   ]
  },
  {
   "cell_type": "markdown",
   "metadata": {},
   "source": [
    "### Call API and show results"
   ]
  },
  {
   "cell_type": "code",
   "execution_count": null,
   "metadata": {},
   "outputs": [],
   "source": [
    "# TODO: replace this code with code to call your machine learning model.  If you are not hosting it yourself, please ensure \n",
    "# that you have provided a Docker container.  \n",
    "count_and_plot_penguins(images[0])"
   ]
  },
  {
   "cell_type": "code",
   "execution_count": null,
   "metadata": {
    "scrolled": true
   },
   "outputs": [],
   "source": [
    "count_and_plot_penguins(images[1])"
   ]
  },
  {
   "cell_type": "code",
   "execution_count": null,
   "metadata": {
    "scrolled": true
   },
   "outputs": [],
   "source": [
    "count_and_plot_penguins(images[2])"
   ]
  },
  {
   "cell_type": "code",
   "execution_count": null,
   "metadata": {
    "scrolled": true
   },
   "outputs": [],
   "source": [
    "count_and_plot_penguins(images[3])"
   ]
  },
  {
   "cell_type": "code",
   "execution_count": null,
   "metadata": {
    "scrolled": true
   },
   "outputs": [],
   "source": [
    "count_and_plot_penguins(images[4])"
   ]
  },
  {
   "cell_type": "code",
   "execution_count": null,
   "metadata": {
    "scrolled": true
   },
   "outputs": [],
   "source": [
    "count_and_plot_penguins(images[5])"
   ]
  },
  {
   "cell_type": "code",
   "execution_count": null,
   "metadata": {
    "scrolled": true
   },
   "outputs": [],
   "source": [
    "count_and_plot_penguins(images[6])"
   ]
  },
  {
   "cell_type": "code",
   "execution_count": null,
   "metadata": {
    "scrolled": true
   },
   "outputs": [],
   "source": [
    "count_and_plot_penguins(images[7])"
   ]
  },
  {
   "cell_type": "code",
   "execution_count": null,
   "metadata": {
    "scrolled": true
   },
   "outputs": [],
   "source": [
    "count_and_plot_penguins(images[8])"
   ]
  },
  {
   "cell_type": "code",
   "execution_count": null,
   "metadata": {
    "scrolled": true
   },
   "outputs": [],
   "source": [
    "count_and_plot_penguins(images[9])"
   ]
  }
 ],
 "metadata": {
  "kernelspec": {
   "display_name": "Python 3",
   "language": "python",
   "name": "python3"
  },
  "language_info": {
   "codemirror_mode": {
    "name": "ipython",
    "version": 3
   },
   "file_extension": ".py",
   "mimetype": "text/x-python",
   "name": "python",
   "nbconvert_exporter": "python",
   "pygments_lexer": "ipython3",
   "version": "3.6.7"
  }
 },
 "nbformat": 4,
 "nbformat_minor": 2
}
