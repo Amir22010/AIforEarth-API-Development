{
 "cells": [
  {
   "cell_type": "markdown",
   "metadata": {},
   "source": [
    "## Template API Demo\n",
    "\n",
    "// TODO: please give a short description of your model here and the benefit it provides.  Also, don't forget to mention your organization here so the world can know that this is your amazing work!"
   ]
  },
  {
   "cell_type": "markdown",
   "metadata": {},
   "source": [
    "### Imports and constants"
   ]
  },
  {
   "cell_type": "code",
   "execution_count": null,
   "metadata": {
    "scrolled": true
   },
   "outputs": [],
   "source": [
    "# TODO: replace the below with any import statements that you require\n",
    "import urllib.request\n",
    "import io\n",
    "import requests\n",
    "import base64\n",
    "import cv2\n",
    "from datetime import datetime, timedelta\n",
    "import matplotlib.pyplot as plt\n",
    "import matplotlib.image as mpi\n",
    "import config_file as cfg\n",
    "from imageio import imread\n",
    "from PIL import Image\n",
    "from matplotlib import cm as CM\n",
    "from skimage import io as skiimg\n",
    "import os, uuid, sys\n",
    "from azure.storage.blob import BlockBlobService, ContainerPermissions, PublicAccess\n",
    "\n",
    "# Please leave this in.  When the demo is run subsequent times, it will appear clean, without the previous results \n",
    "# of prior demos cached.  \n",
    "%autosave 0\n",
    "\n",
    "# TODO: replace the below code - specify any constants and static variables that you need \n",
    "BLOB_ACCOUNT_NAME = cfg.BLOB_ACCOUNT_NAME\n",
    "BLOB_ACCOUNT_KEY = cfg.BLOB_ACCOUNT_KEY\n",
    "BLOB_CONTAINER_URL = cfg.BLOB_CONTAINER_URL\n",
    "BLOB_CONTAINER_NAME = cfg.BLOB_CONTAINER_NAME\n",
    "headers = {'Content-Type': 'image/jpeg'}\n"
   ]
  },
  {
   "cell_type": "markdown",
   "metadata": {},
   "source": [
    "### Functions"
   ]
  },
  {
   "cell_type": "code",
   "execution_count": null,
   "metadata": {
    "scrolled": true
   },
   "outputs": [],
   "source": [
    "# TODO: replace the below with any helper functions that your code requires.  Functions that retrieve data, display an image,\n",
    "# plot data, etc. can live here.  \n",
    "\n",
    "def get_images():\n",
    "    \n",
    "    block_blob_service = BlockBlobService(account_name=BLOB_ACCOUNT_NAME, account_key=BLOB_ACCOUNT_KEY) \n",
    "    images_data = []\n",
    "    generator = block_blob_service.list_blobs(BLOB_CONTAINER_NAME)\n",
    "    \n",
    "    for blob in generator:                  \n",
    "        blob = block_blob_service.get_blob_to_bytes(BLOB_CONTAINER_NAME, blob.name) \n",
    "        images_data.append({\"name\" : blob.name, \"data\": blob.content})\n",
    "     \n",
    "    return images_data   \n",
    "\n",
    "\n",
    "def plot(images, nrows, ncols, figsize=(10, 10), cmap=None):\n",
    "    fig, axes = plt.subplots(nrows=nrows, ncols=ncols, figsize=figsize)\n",
    "    for idx, axis in enumerate(axes):\n",
    "        image_bytes = io.BytesIO(images[idx][\"data\"])\n",
    "        axis.imshow(skiimg.imread(image_bytes))\n",
    "        "
   ]
  },
  {
   "cell_type": "markdown",
   "metadata": {},
   "source": [
    "### Retrieve and display images"
   ]
  },
  {
   "cell_type": "code",
   "execution_count": null,
   "metadata": {},
   "outputs": [],
   "source": [
    "# TODO: replace this cell with code to display your input, if needed.  In the situation of a computer vision problem like \n",
    "# image classification, object detection, or segmentation, it is nice to first see the input image before we see your results.  \n",
    "\n",
    "images = get_images()\n",
    "\n",
    "plot([images[0], images[1]],1,2,(20,20))\n",
    "plot([images[2], images[3]],1,2,(20,20))\n",
    "plot([images[4], images[5]],1,2,(20,20))\n",
    "plot([images[6], images[7]],1,2,(20,20))\n",
    "plot([images[8], images[9]],1,2,(20,20))"
   ]
  },
  {
   "cell_type": "markdown",
   "metadata": {},
   "source": [
    "### Call API and show results"
   ]
  },
  {
   "cell_type": "code",
   "execution_count": null,
   "metadata": {},
   "outputs": [],
   "source": [
    "# TODO: replace this code with code to call your machine learning model.  If you are not hosting it yourself, please ensure \n",
    "# that you have provided a Docker container.  \n",
    "count_and_plot_penguins(images[0])"
   ]
  },
  {
   "cell_type": "code",
   "execution_count": null,
   "metadata": {
    "scrolled": true
   },
   "outputs": [],
   "source": [
    "count_and_plot_penguins(images[1])"
   ]
  },
  {
   "cell_type": "code",
   "execution_count": null,
   "metadata": {
    "scrolled": true
   },
   "outputs": [],
   "source": [
    "count_and_plot_penguins(images[2])"
   ]
  },
  {
   "cell_type": "code",
   "execution_count": null,
   "metadata": {
    "scrolled": true
   },
   "outputs": [],
   "source": [
    "count_and_plot_penguins(images[3])"
   ]
  },
  {
   "cell_type": "code",
   "execution_count": null,
   "metadata": {
    "scrolled": true
   },
   "outputs": [],
   "source": [
    "count_and_plot_penguins(images[4])"
   ]
  },
  {
   "cell_type": "code",
   "execution_count": null,
   "metadata": {
    "scrolled": true
   },
   "outputs": [],
   "source": [
    "count_and_plot_penguins(images[5])"
   ]
  },
  {
   "cell_type": "code",
   "execution_count": null,
   "metadata": {
    "scrolled": true
   },
   "outputs": [],
   "source": [
    "count_and_plot_penguins(images[6])"
   ]
  },
  {
   "cell_type": "code",
   "execution_count": null,
   "metadata": {
    "scrolled": true
   },
   "outputs": [],
   "source": [
    "count_and_plot_penguins(images[7])"
   ]
  },
  {
   "cell_type": "code",
   "execution_count": null,
   "metadata": {
    "scrolled": true
   },
   "outputs": [],
   "source": [
    "count_and_plot_penguins(images[8])"
   ]
  },
  {
   "cell_type": "code",
   "execution_count": null,
   "metadata": {
    "scrolled": true
   },
   "outputs": [],
   "source": [
    "count_and_plot_penguins(images[9])"
   ]
  }
 ],
 "metadata": {
  "kernelspec": {
   "display_name": "Python 3",
   "language": "python",
   "name": "python3"
  },
  "language_info": {
   "codemirror_mode": {
    "name": "ipython",
    "version": 3
   },
   "file_extension": ".py",
   "mimetype": "text/x-python",
   "name": "python",
   "nbconvert_exporter": "python",
   "pygments_lexer": "ipython3",
   "version": "3.5.4"
  }
 },
 "nbformat": 4,
 "nbformat_minor": 2
}
